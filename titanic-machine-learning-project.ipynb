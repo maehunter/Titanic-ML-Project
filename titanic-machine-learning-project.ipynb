{
 "cells": [
  {
   "cell_type": "markdown",
   "id": "d20cf209",
   "metadata": {},
   "source": [
    "<font size=\"6\">Titanic Machine Learning Project</font>"
   ]
  },
  {
   "cell_type": "markdown",
   "id": "dc6dd268",
   "metadata": {},
   "source": [
    "Author: Maelynn Hunter<br/>\n",
    "Overview: use machine learning to create a model that predicts which passengers survived the Titanic shipwreck.\n",
    "\n",
    "---\n",
    "\n",
    "Data and competition information:\n",
    "* https://www.kaggle.com/competitions/titanic/overview\n",
    "\n",
    "---"
   ]
  },
  {
   "cell_type": "markdown",
   "id": "9e75098c",
   "metadata": {
    "execution": {
     "iopub.execute_input": "2023-08-28T17:37:49.909829Z",
     "iopub.status.busy": "2023-08-28T17:37:49.909341Z",
     "iopub.status.idle": "2023-08-28T17:37:49.915784Z",
     "shell.execute_reply": "2023-08-28T17:37:49.914488Z",
     "shell.execute_reply.started": "2023-08-28T17:37:49.909782Z"
    },
    "papermill": {
     "duration": 0.017826,
     "end_time": "2023-08-29T14:19:34.216439",
     "exception": false,
     "start_time": "2023-08-29T14:19:34.198613",
     "status": "completed"
    },
    "tags": []
   },
   "source": [
    "# Environment Setup"
   ]
  },
  {
   "cell_type": "markdown",
   "id": "badd841f",
   "metadata": {},
   "source": [
    "* Data manipulation: Numpy, Pandas\n",
    "* Data visualization: Matplotlib, Seaborn\n",
    "* Machine learning: Scikit-Learn"
   ]
  },
  {
   "cell_type": "code",
   "execution_count": 1,
   "id": "dbe8537e",
   "metadata": {
    "_cell_guid": "b1076dfc-b9ad-4769-8c92-a6c4dae69d19",
    "_uuid": "8f2839f25d086af736a60e9eeb907d3b93b6e0e5",
    "execution": {
     "iopub.execute_input": "2023-08-29T14:19:34.253285Z",
     "iopub.status.busy": "2023-08-29T14:19:34.252468Z",
     "iopub.status.idle": "2023-08-29T14:19:35.720311Z",
     "shell.execute_reply": "2023-08-29T14:19:35.719413Z"
    },
    "papermill": {
     "duration": 1.489304,
     "end_time": "2023-08-29T14:19:35.722772",
     "exception": false,
     "start_time": "2023-08-29T14:19:34.233468",
     "status": "completed"
    },
    "tags": []
   },
   "outputs": [],
   "source": [
    "# data processing\n",
    "import numpy as np \n",
    "import pandas as pd\n",
    "\n",
    "# data visualization\n",
    "import matplotlib.pyplot as plt\n",
    "import seaborn as sns\n",
    "%matplotlib inline"
   ]
  },
  {
   "cell_type": "code",
   "execution_count": 2,
   "id": "2be51ce9",
   "metadata": {
    "execution": {
     "iopub.execute_input": "2023-08-29T14:19:35.760172Z",
     "iopub.status.busy": "2023-08-29T14:19:35.759386Z",
     "iopub.status.idle": "2023-08-29T14:19:35.768446Z",
     "shell.execute_reply": "2023-08-29T14:19:35.767650Z"
    },
    "papermill": {
     "duration": 0.030703,
     "end_time": "2023-08-29T14:19:35.771042",
     "exception": false,
     "start_time": "2023-08-29T14:19:35.740339",
     "status": "completed"
    },
    "tags": []
   },
   "outputs": [],
   "source": [
    "# visual settings\n",
    "sns.set_style('darkgrid', {'axes.linewidth': 1, 'axes.edgecolor':'0.15', 'axes.grid':True, 'xtick.bottom': True, \n",
    "                           'xtick.top': False, 'ytick.left': True, 'ytick.right': False, 'patch.edgecolor': '0.15'})\n",
    "sns.set_palette('Pastel1')"
   ]
  },
  {
   "cell_type": "markdown",
   "id": "b74a230c",
   "metadata": {
    "papermill": {
     "duration": 0.018646,
     "end_time": "2023-08-29T14:19:35.807647",
     "exception": false,
     "start_time": "2023-08-29T14:19:35.789001",
     "status": "completed"
    },
    "tags": []
   },
   "source": [
    "# Loading Data"
   ]
  },
  {
   "cell_type": "code",
   "execution_count": 3,
   "id": "eca80593",
   "metadata": {
    "execution": {
     "iopub.execute_input": "2023-08-29T14:19:35.846467Z",
     "iopub.status.busy": "2023-08-29T14:19:35.845697Z",
     "iopub.status.idle": "2023-08-29T14:19:35.893326Z",
     "shell.execute_reply": "2023-08-29T14:19:35.892398Z"
    },
    "papermill": {
     "duration": 0.069902,
     "end_time": "2023-08-29T14:19:35.896454",
     "exception": false,
     "start_time": "2023-08-29T14:19:35.826552",
     "status": "completed"
    },
    "tags": []
   },
   "outputs": [
    {
     "data": {
      "text/html": [
       "<div>\n",
       "<style scoped>\n",
       "    .dataframe tbody tr th:only-of-type {\n",
       "        vertical-align: middle;\n",
       "    }\n",
       "\n",
       "    .dataframe tbody tr th {\n",
       "        vertical-align: top;\n",
       "    }\n",
       "\n",
       "    .dataframe thead th {\n",
       "        text-align: right;\n",
       "    }\n",
       "</style>\n",
       "<table border=\"1\" class=\"dataframe\">\n",
       "  <thead>\n",
       "    <tr style=\"text-align: right;\">\n",
       "      <th></th>\n",
       "      <th>PassengerId</th>\n",
       "      <th>Survived</th>\n",
       "      <th>Pclass</th>\n",
       "      <th>Name</th>\n",
       "      <th>Sex</th>\n",
       "      <th>Age</th>\n",
       "      <th>SibSp</th>\n",
       "      <th>Parch</th>\n",
       "      <th>Ticket</th>\n",
       "      <th>Fare</th>\n",
       "      <th>Cabin</th>\n",
       "      <th>Embarked</th>\n",
       "    </tr>\n",
       "  </thead>\n",
       "  <tbody>\n",
       "    <tr>\n",
       "      <th>0</th>\n",
       "      <td>1</td>\n",
       "      <td>0</td>\n",
       "      <td>3</td>\n",
       "      <td>Braund, Mr. Owen Harris</td>\n",
       "      <td>male</td>\n",
       "      <td>22.0</td>\n",
       "      <td>1</td>\n",
       "      <td>0</td>\n",
       "      <td>A/5 21171</td>\n",
       "      <td>7.2500</td>\n",
       "      <td>NaN</td>\n",
       "      <td>S</td>\n",
       "    </tr>\n",
       "    <tr>\n",
       "      <th>1</th>\n",
       "      <td>2</td>\n",
       "      <td>1</td>\n",
       "      <td>1</td>\n",
       "      <td>Cumings, Mrs. John Bradley (Florence Briggs Th...</td>\n",
       "      <td>female</td>\n",
       "      <td>38.0</td>\n",
       "      <td>1</td>\n",
       "      <td>0</td>\n",
       "      <td>PC 17599</td>\n",
       "      <td>71.2833</td>\n",
       "      <td>C85</td>\n",
       "      <td>C</td>\n",
       "    </tr>\n",
       "    <tr>\n",
       "      <th>2</th>\n",
       "      <td>3</td>\n",
       "      <td>1</td>\n",
       "      <td>3</td>\n",
       "      <td>Heikkinen, Miss. Laina</td>\n",
       "      <td>female</td>\n",
       "      <td>26.0</td>\n",
       "      <td>0</td>\n",
       "      <td>0</td>\n",
       "      <td>STON/O2. 3101282</td>\n",
       "      <td>7.9250</td>\n",
       "      <td>NaN</td>\n",
       "      <td>S</td>\n",
       "    </tr>\n",
       "    <tr>\n",
       "      <th>3</th>\n",
       "      <td>4</td>\n",
       "      <td>1</td>\n",
       "      <td>1</td>\n",
       "      <td>Futrelle, Mrs. Jacques Heath (Lily May Peel)</td>\n",
       "      <td>female</td>\n",
       "      <td>35.0</td>\n",
       "      <td>1</td>\n",
       "      <td>0</td>\n",
       "      <td>113803</td>\n",
       "      <td>53.1000</td>\n",
       "      <td>C123</td>\n",
       "      <td>S</td>\n",
       "    </tr>\n",
       "    <tr>\n",
       "      <th>4</th>\n",
       "      <td>5</td>\n",
       "      <td>0</td>\n",
       "      <td>3</td>\n",
       "      <td>Allen, Mr. William Henry</td>\n",
       "      <td>male</td>\n",
       "      <td>35.0</td>\n",
       "      <td>0</td>\n",
       "      <td>0</td>\n",
       "      <td>373450</td>\n",
       "      <td>8.0500</td>\n",
       "      <td>NaN</td>\n",
       "      <td>S</td>\n",
       "    </tr>\n",
       "  </tbody>\n",
       "</table>\n",
       "</div>"
      ],
      "text/plain": [
       "   PassengerId  Survived  Pclass  \\\n",
       "0            1         0       3   \n",
       "1            2         1       1   \n",
       "2            3         1       3   \n",
       "3            4         1       1   \n",
       "4            5         0       3   \n",
       "\n",
       "                                                Name     Sex   Age  SibSp  \\\n",
       "0                            Braund, Mr. Owen Harris    male  22.0      1   \n",
       "1  Cumings, Mrs. John Bradley (Florence Briggs Th...  female  38.0      1   \n",
       "2                             Heikkinen, Miss. Laina  female  26.0      0   \n",
       "3       Futrelle, Mrs. Jacques Heath (Lily May Peel)  female  35.0      1   \n",
       "4                           Allen, Mr. William Henry    male  35.0      0   \n",
       "\n",
       "   Parch            Ticket     Fare Cabin Embarked  \n",
       "0      0         A/5 21171   7.2500   NaN        S  \n",
       "1      0          PC 17599  71.2833   C85        C  \n",
       "2      0  STON/O2. 3101282   7.9250   NaN        S  \n",
       "3      0            113803  53.1000  C123        S  \n",
       "4      0            373450   8.0500   NaN        S  "
      ]
     },
     "execution_count": 3,
     "metadata": {},
     "output_type": "execute_result"
    }
   ],
   "source": [
    "# load training data into DataFrame\n",
    "train_data = pd.read_csv('train.csv')\n",
    "train_data.head()"
   ]
  },
  {
   "cell_type": "code",
   "execution_count": 4,
   "id": "bd668bc0",
   "metadata": {
    "execution": {
     "iopub.execute_input": "2023-08-29T14:19:35.938320Z",
     "iopub.status.busy": "2023-08-29T14:19:35.936945Z",
     "iopub.status.idle": "2023-08-29T14:19:35.964053Z",
     "shell.execute_reply": "2023-08-29T14:19:35.962769Z"
    },
    "papermill": {
     "duration": 0.05222,
     "end_time": "2023-08-29T14:19:35.966812",
     "exception": false,
     "start_time": "2023-08-29T14:19:35.914592",
     "status": "completed"
    },
    "tags": []
   },
   "outputs": [
    {
     "data": {
      "text/html": [
       "<div>\n",
       "<style scoped>\n",
       "    .dataframe tbody tr th:only-of-type {\n",
       "        vertical-align: middle;\n",
       "    }\n",
       "\n",
       "    .dataframe tbody tr th {\n",
       "        vertical-align: top;\n",
       "    }\n",
       "\n",
       "    .dataframe thead th {\n",
       "        text-align: right;\n",
       "    }\n",
       "</style>\n",
       "<table border=\"1\" class=\"dataframe\">\n",
       "  <thead>\n",
       "    <tr style=\"text-align: right;\">\n",
       "      <th></th>\n",
       "      <th>PassengerId</th>\n",
       "      <th>Pclass</th>\n",
       "      <th>Name</th>\n",
       "      <th>Sex</th>\n",
       "      <th>Age</th>\n",
       "      <th>SibSp</th>\n",
       "      <th>Parch</th>\n",
       "      <th>Ticket</th>\n",
       "      <th>Fare</th>\n",
       "      <th>Cabin</th>\n",
       "      <th>Embarked</th>\n",
       "    </tr>\n",
       "  </thead>\n",
       "  <tbody>\n",
       "    <tr>\n",
       "      <th>0</th>\n",
       "      <td>892</td>\n",
       "      <td>3</td>\n",
       "      <td>Kelly, Mr. James</td>\n",
       "      <td>male</td>\n",
       "      <td>34.5</td>\n",
       "      <td>0</td>\n",
       "      <td>0</td>\n",
       "      <td>330911</td>\n",
       "      <td>7.8292</td>\n",
       "      <td>NaN</td>\n",
       "      <td>Q</td>\n",
       "    </tr>\n",
       "    <tr>\n",
       "      <th>1</th>\n",
       "      <td>893</td>\n",
       "      <td>3</td>\n",
       "      <td>Wilkes, Mrs. James (Ellen Needs)</td>\n",
       "      <td>female</td>\n",
       "      <td>47.0</td>\n",
       "      <td>1</td>\n",
       "      <td>0</td>\n",
       "      <td>363272</td>\n",
       "      <td>7.0000</td>\n",
       "      <td>NaN</td>\n",
       "      <td>S</td>\n",
       "    </tr>\n",
       "    <tr>\n",
       "      <th>2</th>\n",
       "      <td>894</td>\n",
       "      <td>2</td>\n",
       "      <td>Myles, Mr. Thomas Francis</td>\n",
       "      <td>male</td>\n",
       "      <td>62.0</td>\n",
       "      <td>0</td>\n",
       "      <td>0</td>\n",
       "      <td>240276</td>\n",
       "      <td>9.6875</td>\n",
       "      <td>NaN</td>\n",
       "      <td>Q</td>\n",
       "    </tr>\n",
       "    <tr>\n",
       "      <th>3</th>\n",
       "      <td>895</td>\n",
       "      <td>3</td>\n",
       "      <td>Wirz, Mr. Albert</td>\n",
       "      <td>male</td>\n",
       "      <td>27.0</td>\n",
       "      <td>0</td>\n",
       "      <td>0</td>\n",
       "      <td>315154</td>\n",
       "      <td>8.6625</td>\n",
       "      <td>NaN</td>\n",
       "      <td>S</td>\n",
       "    </tr>\n",
       "    <tr>\n",
       "      <th>4</th>\n",
       "      <td>896</td>\n",
       "      <td>3</td>\n",
       "      <td>Hirvonen, Mrs. Alexander (Helga E Lindqvist)</td>\n",
       "      <td>female</td>\n",
       "      <td>22.0</td>\n",
       "      <td>1</td>\n",
       "      <td>1</td>\n",
       "      <td>3101298</td>\n",
       "      <td>12.2875</td>\n",
       "      <td>NaN</td>\n",
       "      <td>S</td>\n",
       "    </tr>\n",
       "  </tbody>\n",
       "</table>\n",
       "</div>"
      ],
      "text/plain": [
       "   PassengerId  Pclass                                          Name     Sex  \\\n",
       "0          892       3                              Kelly, Mr. James    male   \n",
       "1          893       3              Wilkes, Mrs. James (Ellen Needs)  female   \n",
       "2          894       2                     Myles, Mr. Thomas Francis    male   \n",
       "3          895       3                              Wirz, Mr. Albert    male   \n",
       "4          896       3  Hirvonen, Mrs. Alexander (Helga E Lindqvist)  female   \n",
       "\n",
       "    Age  SibSp  Parch   Ticket     Fare Cabin Embarked  \n",
       "0  34.5      0      0   330911   7.8292   NaN        Q  \n",
       "1  47.0      1      0   363272   7.0000   NaN        S  \n",
       "2  62.0      0      0   240276   9.6875   NaN        Q  \n",
       "3  27.0      0      0   315154   8.6625   NaN        S  \n",
       "4  22.0      1      1  3101298  12.2875   NaN        S  "
      ]
     },
     "execution_count": 4,
     "metadata": {},
     "output_type": "execute_result"
    }
   ],
   "source": [
    "# load test data into DataFrame\n",
    "test_data = pd.read_csv('test.csv')\n",
    "test_data.head()"
   ]
  },
  {
   "cell_type": "markdown",
   "id": "2f576ac0",
   "metadata": {
    "papermill": {
     "duration": 0.017966,
     "end_time": "2023-08-29T14:19:36.003024",
     "exception": false,
     "start_time": "2023-08-29T14:19:35.985058",
     "status": "completed"
    },
    "tags": []
   },
   "source": [
    "# Exploratory Data Analysis"
   ]
  },
  {
   "cell_type": "markdown",
   "id": "074034e6",
   "metadata": {
    "papermill": {
     "duration": 0.017894,
     "end_time": "2023-08-29T14:19:36.039161",
     "exception": false,
     "start_time": "2023-08-29T14:19:36.021267",
     "status": "completed"
    },
    "tags": []
   },
   "source": [
    "<font size=\"4\">How many people survived?</font>"
   ]
  },
  {
   "cell_type": "code",
   "execution_count": 5,
   "id": "a67ed0ee",
   "metadata": {
    "execution": {
     "iopub.execute_input": "2023-08-29T14:19:36.078523Z",
     "iopub.status.busy": "2023-08-29T14:19:36.077065Z",
     "iopub.status.idle": "2023-08-29T14:19:36.347080Z",
     "shell.execute_reply": "2023-08-29T14:19:36.345701Z"
    },
    "papermill": {
     "duration": 0.292697,
     "end_time": "2023-08-29T14:19:36.350156",
     "exception": false,
     "start_time": "2023-08-29T14:19:36.057459",
     "status": "completed"
    },
    "tags": []
   },
   "outputs": [
    {
     "data": {
      "image/png": "[encoded data removed]",
      "text/plain": [
       "<Figure size 640x480 with 1 Axes>"
      ]
     },
     "metadata": {},
     "output_type": "display_data"
    }
   ],
   "source": [
    "sns.countplot(x='Survived', data=train_data);"
   ]
  },
  {
   "cell_type": "markdown",
   "id": "651f31e3",
   "metadata": {
    "papermill": {
     "duration": 0.018086,
     "end_time": "2023-08-29T14:19:36.386737",
     "exception": false,
     "start_time": "2023-08-29T14:19:36.368651",
     "status": "completed"
    },
    "tags": []
   },
   "source": [
    "Most people on the Titanic did not survive."
   ]
  },
  {
   "cell_type": "markdown",
   "id": "4cb38310",
   "metadata": {
    "papermill": {
     "duration": 0.018212,
     "end_time": "2023-08-29T14:19:36.423377",
     "exception": false,
     "start_time": "2023-08-29T14:19:36.405165",
     "status": "completed"
    },
    "tags": []
   },
   "source": [
    "<font size=\"4\">How did sex affect survivorship?</font>"
   ]
  },
  {
   "cell_type": "code",
   "execution_count": 6,
   "id": "525176e7",
   "metadata": {
    "execution": {
     "iopub.execute_input": "2023-08-29T14:19:36.462542Z",
     "iopub.status.busy": "2023-08-29T14:19:36.462161Z",
     "iopub.status.idle": "2023-08-29T14:19:36.694611Z",
     "shell.execute_reply": "2023-08-29T14:19:36.693247Z"
    },
    "papermill": {
     "duration": 0.255633,
     "end_time": "2023-08-29T14:19:36.697742",
     "exception": false,
     "start_time": "2023-08-29T14:19:36.442109",
     "status": "completed"
    },
    "tags": []
   },
   "outputs": [
    {
     "data": {
      "image/png": "[encoded data removed]",
      "text/plain": [
       "<Figure size 640x480 with 1 Axes>"
      ]
     },
     "metadata": {},
     "output_type": "display_data"
    }
   ],
   "source": [
    "sns.countplot(x='Survived', data=train_data, hue='Sex', palette='RdBu_r');"
   ]
  },
  {
   "cell_type": "markdown",
   "id": "e896add0",
   "metadata": {
    "papermill": {
     "duration": 0.019086,
     "end_time": "2023-08-29T14:19:36.735875",
     "exception": false,
     "start_time": "2023-08-29T14:19:36.716789",
     "status": "completed"
    },
    "tags": []
   },
   "source": [
    "People who did not survive were overwhelmingly male, while people who survived were mostly female."
   ]
  },
  {
   "cell_type": "markdown",
   "id": "044e7ceb",
   "metadata": {
    "papermill": {
     "duration": 0.018487,
     "end_time": "2023-08-29T14:19:36.773327",
     "exception": false,
     "start_time": "2023-08-29T14:19:36.754840",
     "status": "completed"
    },
    "tags": []
   },
   "source": [
    "<font size=\"4\">How did class affect survivorship?</font>"
   ]
  },
  {
   "cell_type": "code",
   "execution_count": 7,
   "id": "acbc4df2",
   "metadata": {
    "execution": {
     "iopub.execute_input": "2023-08-29T14:19:36.813840Z",
     "iopub.status.busy": "2023-08-29T14:19:36.813430Z",
     "iopub.status.idle": "2023-08-29T14:19:37.061155Z",
     "shell.execute_reply": "2023-08-29T14:19:37.059900Z"
    },
    "papermill": {
     "duration": 0.271158,
     "end_time": "2023-08-29T14:19:37.063624",
     "exception": false,
     "start_time": "2023-08-29T14:19:36.792466",
     "status": "completed"
    },
    "tags": []
   },
   "outputs": [
    {
     "data": {
      "image/png": "[encoded data removed]",
      "text/plain": [
       "<Figure size 640x480 with 1 Axes>"
      ]
     },
     "metadata": {},
     "output_type": "display_data"
    }
   ],
   "source": [
    "sns.countplot(x='Survived', data=train_data, hue='Pclass');"
   ]
  },
  {
   "cell_type": "markdown",
   "id": "b1d44834",
   "metadata": {
    "execution": {
     "iopub.execute_input": "2023-08-28T18:02:49.708561Z",
     "iopub.status.busy": "2023-08-28T18:02:49.708064Z",
     "iopub.status.idle": "2023-08-28T18:02:49.716718Z",
     "shell.execute_reply": "2023-08-28T18:02:49.715489Z",
     "shell.execute_reply.started": "2023-08-28T18:02:49.708524Z"
    },
    "papermill": {
     "duration": 0.018861,
     "end_time": "2023-08-29T14:19:37.101785",
     "exception": false,
     "start_time": "2023-08-29T14:19:37.082924",
     "status": "completed"
    },
    "tags": []
   },
   "source": [
    "The people who did not survive were mostly comprised of people in the third class. People who did survive leaned slightly toward first class."
   ]
  },
  {
   "cell_type": "markdown",
   "id": "34eb9d9e",
   "metadata": {
    "papermill": {
     "duration": 0.018967,
     "end_time": "2023-08-29T14:19:37.140070",
     "exception": false,
     "start_time": "2023-08-29T14:19:37.121103",
     "status": "completed"
    },
    "tags": []
   },
   "source": [
    "# Data Cleaning"
   ]
  },
  {
   "cell_type": "markdown",
   "id": "a41ceec4",
   "metadata": {
    "papermill": {
     "duration": 0.019381,
     "end_time": "2023-08-29T14:19:37.178697",
     "exception": false,
     "start_time": "2023-08-29T14:19:37.159316",
     "status": "completed"
    },
    "tags": []
   },
   "source": [
    "### Missing Values: train_data"
   ]
  },
  {
   "cell_type": "markdown",
   "id": "02ad72ef",
   "metadata": {
    "papermill": {
     "duration": 0.018623,
     "end_time": "2023-08-29T14:19:37.216662",
     "exception": false,
     "start_time": "2023-08-29T14:19:37.198039",
     "status": "completed"
    },
    "tags": []
   },
   "source": [
    "Where is data missing?"
   ]
  },
  {
   "cell_type": "code",
   "execution_count": 8,
   "id": "1b41653b",
   "metadata": {
    "execution": {
     "iopub.execute_input": "2023-08-29T14:19:37.257093Z",
     "iopub.status.busy": "2023-08-29T14:19:37.256216Z",
     "iopub.status.idle": "2023-08-29T14:19:37.490002Z",
     "shell.execute_reply": "2023-08-29T14:19:37.488542Z"
    },
    "papermill": {
     "duration": 0.257138,
     "end_time": "2023-08-29T14:19:37.492588",
     "exception": false,
     "start_time": "2023-08-29T14:19:37.235450",
     "status": "completed"
    },
    "tags": []
   },
   "outputs": [
    {
     "data": {
      "image/png": "[encoded data removed]",
      "text/plain": [
       "<Figure size 640x480 with 1 Axes>"
      ]
     },
     "metadata": {},
     "output_type": "display_data"
    }
   ],
   "source": [
    "# null data as a boolean viewed in heatmap\n",
    "sns.heatmap(train_data.isnull(), yticklabels=False, cbar=False, cmap='crest_r');"
   ]
  },
  {
   "cell_type": "markdown",
   "id": "0c0e9fb9",
   "metadata": {
    "execution": {
     "iopub.execute_input": "2023-08-28T17:47:48.209660Z",
     "iopub.status.busy": "2023-08-28T17:47:48.209262Z",
     "iopub.status.idle": "2023-08-28T17:47:48.219463Z",
     "shell.execute_reply": "2023-08-28T17:47:48.217650Z",
     "shell.execute_reply.started": "2023-08-28T17:47:48.209628Z"
    },
    "papermill": {
     "duration": 0.01899,
     "end_time": "2023-08-29T14:19:37.530803",
     "exception": false,
     "start_time": "2023-08-29T14:19:37.511813",
     "status": "completed"
    },
    "tags": []
   },
   "source": [
    "There is some data missing from the age column, but there are enough remaining values that we can determine a realistic age based on the other data. A lot of the cabin data is missing, and we will likely not be able to use it."
   ]
  },
  {
   "cell_type": "code",
   "execution_count": 9,
   "id": "f2738800",
   "metadata": {
    "execution": {
     "iopub.execute_input": "2023-08-29T14:19:37.572095Z",
     "iopub.status.busy": "2023-08-29T14:19:37.571598Z",
     "iopub.status.idle": "2023-08-29T14:19:37.837164Z",
     "shell.execute_reply": "2023-08-29T14:19:37.835885Z"
    },
    "papermill": {
     "duration": 0.28987,
     "end_time": "2023-08-29T14:19:37.839591",
     "exception": false,
     "start_time": "2023-08-29T14:19:37.549721",
     "status": "completed"
    },
    "tags": []
   },
   "outputs": [
    {
     "data": {
      "image/png": "[encoded data removed]",
      "text/plain": [
       "<Figure size 800x500 with 1 Axes>"
      ]
     },
     "metadata": {},
     "output_type": "display_data"
    }
   ],
   "source": [
    "# age of passengers based on class\n",
    "plt.figure(figsize=(8,5))\n",
    "sns.boxplot(x='Pclass', y='Age', data=train_data);"
   ]
  },
  {
   "cell_type": "markdown",
   "id": "ca8979cb",
   "metadata": {
    "papermill": {
     "duration": 0.019117,
     "end_time": "2023-08-29T14:19:37.877973",
     "exception": false,
     "start_time": "2023-08-29T14:19:37.858856",
     "status": "completed"
    },
    "tags": []
   },
   "source": [
    "Wealthier passengers tend to be older than those in the lower classes. We can use these averages to fill in the ages of passengers based on their class."
   ]
  },
  {
   "cell_type": "code",
   "execution_count": 10,
   "id": "73b80b94",
   "metadata": {
    "execution": {
     "iopub.execute_input": "2023-08-29T14:19:37.919083Z",
     "iopub.status.busy": "2023-08-29T14:19:37.918586Z",
     "iopub.status.idle": "2023-08-29T14:19:37.925845Z",
     "shell.execute_reply": "2023-08-29T14:19:37.924523Z"
    },
    "papermill": {
     "duration": 0.031159,
     "end_time": "2023-08-29T14:19:37.928491",
     "exception": false,
     "start_time": "2023-08-29T14:19:37.897332",
     "status": "completed"
    },
    "tags": []
   },
   "outputs": [],
   "source": [
    "# function to determine likely age of passengers based on the average for that class\n",
    "def impute_age(cols):\n",
    "    Age = cols[0]\n",
    "    Pclass = cols[1]\n",
    "    \n",
    "    if pd.isnull(Age):\n",
    "        if Pclass == 1:\n",
    "            return 37\n",
    "        elif Pclass ==2:\n",
    "            return 29\n",
    "        else:\n",
    "            return 24\n",
    "    else:\n",
    "        return Age"
   ]
  },
  {
   "cell_type": "code",
   "execution_count": 11,
   "id": "0a64576b",
   "metadata": {
    "execution": {
     "iopub.execute_input": "2023-08-29T14:19:37.970648Z",
     "iopub.status.busy": "2023-08-29T14:19:37.970172Z",
     "iopub.status.idle": "2023-08-29T14:19:37.995319Z",
     "shell.execute_reply": "2023-08-29T14:19:37.993938Z"
    },
    "papermill": {
     "duration": 0.049799,
     "end_time": "2023-08-29T14:19:37.998108",
     "exception": false,
     "start_time": "2023-08-29T14:19:37.948309",
     "status": "completed"
    },
    "tags": []
   },
   "outputs": [],
   "source": [
    "# apply function\n",
    "train_data['Age'] = train_data[['Age', 'Pclass']].apply(impute_age, axis=1)"
   ]
  },
  {
   "cell_type": "code",
   "execution_count": 12,
   "id": "db3e7ed1",
   "metadata": {
    "execution": {
     "iopub.execute_input": "2023-08-29T14:19:38.039835Z",
     "iopub.status.busy": "2023-08-29T14:19:38.039346Z",
     "iopub.status.idle": "2023-08-29T14:19:38.271750Z",
     "shell.execute_reply": "2023-08-29T14:19:38.270502Z"
    },
    "papermill": {
     "duration": 0.255932,
     "end_time": "2023-08-29T14:19:38.274006",
     "exception": false,
     "start_time": "2023-08-29T14:19:38.018074",
     "status": "completed"
    },
    "tags": []
   },
   "outputs": [
    {
     "data": {
      "image/png": "[encoded data removed]",
      "text/plain": [
       "<Figure size 640x480 with 1 Axes>"
      ]
     },
     "metadata": {},
     "output_type": "display_data"
    }
   ],
   "source": [
    "# null data as a boolean viewed in heatmap\n",
    "sns.heatmap(train_data.isnull(), yticklabels=False, cbar=False, cmap='crest_r');"
   ]
  },
  {
   "cell_type": "markdown",
   "id": "6bf9f331",
   "metadata": {
    "papermill": {
     "duration": 0.019414,
     "end_time": "2023-08-29T14:19:38.313252",
     "exception": false,
     "start_time": "2023-08-29T14:19:38.293838",
     "status": "completed"
    },
    "tags": []
   },
   "source": [
    "Now we have filled in all of the age gaps with the average age of the passengers based on their class. Since the cabin column has so many missing values, we will drop it."
   ]
  },
  {
   "cell_type": "code",
   "execution_count": 13,
   "id": "c29e81d9",
   "metadata": {
    "execution": {
     "iopub.execute_input": "2023-08-29T14:19:38.354920Z",
     "iopub.status.busy": "2023-08-29T14:19:38.354488Z",
     "iopub.status.idle": "2023-08-29T14:19:38.361855Z",
     "shell.execute_reply": "2023-08-29T14:19:38.360526Z"
    },
    "papermill": {
     "duration": 0.031248,
     "end_time": "2023-08-29T14:19:38.364210",
     "exception": false,
     "start_time": "2023-08-29T14:19:38.332962",
     "status": "completed"
    },
    "tags": []
   },
   "outputs": [],
   "source": [
    "# drop cabin column\n",
    "train_data.drop('Cabin', axis=1, inplace=True)"
   ]
  },
  {
   "cell_type": "markdown",
   "id": "4d465826",
   "metadata": {
    "papermill": {
     "duration": 0.019745,
     "end_time": "2023-08-29T14:19:38.403641",
     "exception": false,
     "start_time": "2023-08-29T14:19:38.383896",
     "status": "completed"
    },
    "tags": []
   },
   "source": [
    "### Categorical Features: train_data"
   ]
  },
  {
   "cell_type": "markdown",
   "id": "0b51c3e6",
   "metadata": {
    "papermill": {
     "duration": 0.019483,
     "end_time": "2023-08-29T14:19:38.443152",
     "exception": false,
     "start_time": "2023-08-29T14:19:38.423669",
     "status": "completed"
    },
    "tags": []
   },
   "source": [
    "For categorical columns like Sex and Embarked, we will convert the categories to numerical values (indicator/dummy variables)"
   ]
  },
  {
   "cell_type": "code",
   "execution_count": 14,
   "id": "607aa4d2",
   "metadata": {
    "execution": {
     "iopub.execute_input": "2023-08-29T14:19:38.485619Z",
     "iopub.status.busy": "2023-08-29T14:19:38.484711Z",
     "iopub.status.idle": "2023-08-29T14:19:38.498518Z",
     "shell.execute_reply": "2023-08-29T14:19:38.497006Z"
    },
    "papermill": {
     "duration": 0.037966,
     "end_time": "2023-08-29T14:19:38.500896",
     "exception": false,
     "start_time": "2023-08-29T14:19:38.462930",
     "status": "completed"
    },
    "tags": []
   },
   "outputs": [
    {
     "data": {
      "text/html": [
       "<div>\n",
       "<style scoped>\n",
       "    .dataframe tbody tr th:only-of-type {\n",
       "        vertical-align: middle;\n",
       "    }\n",
       "\n",
       "    .dataframe tbody tr th {\n",
       "        vertical-align: top;\n",
       "    }\n",
       "\n",
       "    .dataframe thead th {\n",
       "        text-align: right;\n",
       "    }\n",
       "</style>\n",
       "<table border=\"1\" class=\"dataframe\">\n",
       "  <thead>\n",
       "    <tr style=\"text-align: right;\">\n",
       "      <th></th>\n",
       "      <th>male</th>\n",
       "    </tr>\n",
       "  </thead>\n",
       "  <tbody>\n",
       "    <tr>\n",
       "      <th>0</th>\n",
       "      <td>1</td>\n",
       "    </tr>\n",
       "    <tr>\n",
       "      <th>1</th>\n",
       "      <td>0</td>\n",
       "    </tr>\n",
       "    <tr>\n",
       "      <th>2</th>\n",
       "      <td>0</td>\n",
       "    </tr>\n",
       "    <tr>\n",
       "      <th>3</th>\n",
       "      <td>0</td>\n",
       "    </tr>\n",
       "    <tr>\n",
       "      <th>4</th>\n",
       "      <td>1</td>\n",
       "    </tr>\n",
       "  </tbody>\n",
       "</table>\n",
       "</div>"
      ],
      "text/plain": [
       "   male\n",
       "0     1\n",
       "1     0\n",
       "2     0\n",
       "3     0\n",
       "4     1"
      ]
     },
     "execution_count": 14,
     "metadata": {},
     "output_type": "execute_result"
    }
   ],
   "source": [
    "# convert sex into numerical values (0/1) in one column\n",
    "sex = pd.get_dummies(train_data['Sex'], drop_first=True)\n",
    "sex.head()"
   ]
  },
  {
   "cell_type": "code",
   "execution_count": 15,
   "id": "fd141023",
   "metadata": {
    "execution": {
     "iopub.execute_input": "2023-08-29T14:19:38.543455Z",
     "iopub.status.busy": "2023-08-29T14:19:38.542963Z",
     "iopub.status.idle": "2023-08-29T14:19:38.555800Z",
     "shell.execute_reply": "2023-08-29T14:19:38.554449Z"
    },
    "papermill": {
     "duration": 0.037275,
     "end_time": "2023-08-29T14:19:38.558319",
     "exception": false,
     "start_time": "2023-08-29T14:19:38.521044",
     "status": "completed"
    },
    "tags": []
   },
   "outputs": [
    {
     "data": {
      "text/html": [
       "<div>\n",
       "<style scoped>\n",
       "    .dataframe tbody tr th:only-of-type {\n",
       "        vertical-align: middle;\n",
       "    }\n",
       "\n",
       "    .dataframe tbody tr th {\n",
       "        vertical-align: top;\n",
       "    }\n",
       "\n",
       "    .dataframe thead th {\n",
       "        text-align: right;\n",
       "    }\n",
       "</style>\n",
       "<table border=\"1\" class=\"dataframe\">\n",
       "  <thead>\n",
       "    <tr style=\"text-align: right;\">\n",
       "      <th></th>\n",
       "      <th>Q</th>\n",
       "      <th>S</th>\n",
       "    </tr>\n",
       "  </thead>\n",
       "  <tbody>\n",
       "    <tr>\n",
       "      <th>0</th>\n",
       "      <td>0</td>\n",
       "      <td>1</td>\n",
       "    </tr>\n",
       "    <tr>\n",
       "      <th>1</th>\n",
       "      <td>0</td>\n",
       "      <td>0</td>\n",
       "    </tr>\n",
       "    <tr>\n",
       "      <th>2</th>\n",
       "      <td>0</td>\n",
       "      <td>1</td>\n",
       "    </tr>\n",
       "    <tr>\n",
       "      <th>3</th>\n",
       "      <td>0</td>\n",
       "      <td>1</td>\n",
       "    </tr>\n",
       "    <tr>\n",
       "      <th>4</th>\n",
       "      <td>0</td>\n",
       "      <td>1</td>\n",
       "    </tr>\n",
       "  </tbody>\n",
       "</table>\n",
       "</div>"
      ],
      "text/plain": [
       "   Q  S\n",
       "0  0  1\n",
       "1  0  0\n",
       "2  0  1\n",
       "3  0  1\n",
       "4  0  1"
      ]
     },
     "execution_count": 15,
     "metadata": {},
     "output_type": "execute_result"
    }
   ],
   "source": [
    "# convert embark into numerical values (0/1) in two columns\n",
    "embark = pd.get_dummies(train_data['Embarked'], drop_first=True)\n",
    "embark.head()"
   ]
  },
  {
   "cell_type": "code",
   "execution_count": 16,
   "id": "f63779c5",
   "metadata": {
    "execution": {
     "iopub.execute_input": "2023-08-29T14:19:38.603196Z",
     "iopub.status.busy": "2023-08-29T14:19:38.602684Z",
     "iopub.status.idle": "2023-08-29T14:19:38.624459Z",
     "shell.execute_reply": "2023-08-29T14:19:38.623529Z"
    },
    "papermill": {
     "duration": 0.046161,
     "end_time": "2023-08-29T14:19:38.626704",
     "exception": false,
     "start_time": "2023-08-29T14:19:38.580543",
     "status": "completed"
    },
    "tags": []
   },
   "outputs": [
    {
     "data": {
      "text/html": [
       "<div>\n",
       "<style scoped>\n",
       "    .dataframe tbody tr th:only-of-type {\n",
       "        vertical-align: middle;\n",
       "    }\n",
       "\n",
       "    .dataframe tbody tr th {\n",
       "        vertical-align: top;\n",
       "    }\n",
       "\n",
       "    .dataframe thead th {\n",
       "        text-align: right;\n",
       "    }\n",
       "</style>\n",
       "<table border=\"1\" class=\"dataframe\">\n",
       "  <thead>\n",
       "    <tr style=\"text-align: right;\">\n",
       "      <th></th>\n",
       "      <th>PassengerId</th>\n",
       "      <th>Survived</th>\n",
       "      <th>Pclass</th>\n",
       "      <th>Name</th>\n",
       "      <th>Sex</th>\n",
       "      <th>Age</th>\n",
       "      <th>SibSp</th>\n",
       "      <th>Parch</th>\n",
       "      <th>Ticket</th>\n",
       "      <th>Fare</th>\n",
       "      <th>Embarked</th>\n",
       "      <th>male</th>\n",
       "      <th>Q</th>\n",
       "      <th>S</th>\n",
       "    </tr>\n",
       "  </thead>\n",
       "  <tbody>\n",
       "    <tr>\n",
       "      <th>0</th>\n",
       "      <td>1</td>\n",
       "      <td>0</td>\n",
       "      <td>3</td>\n",
       "      <td>Braund, Mr. Owen Harris</td>\n",
       "      <td>male</td>\n",
       "      <td>22.0</td>\n",
       "      <td>1</td>\n",
       "      <td>0</td>\n",
       "      <td>A/5 21171</td>\n",
       "      <td>7.2500</td>\n",
       "      <td>S</td>\n",
       "      <td>1</td>\n",
       "      <td>0</td>\n",
       "      <td>1</td>\n",
       "    </tr>\n",
       "    <tr>\n",
       "      <th>1</th>\n",
       "      <td>2</td>\n",
       "      <td>1</td>\n",
       "      <td>1</td>\n",
       "      <td>Cumings, Mrs. John Bradley (Florence Briggs Th...</td>\n",
       "      <td>female</td>\n",
       "      <td>38.0</td>\n",
       "      <td>1</td>\n",
       "      <td>0</td>\n",
       "      <td>PC 17599</td>\n",
       "      <td>71.2833</td>\n",
       "      <td>C</td>\n",
       "      <td>0</td>\n",
       "      <td>0</td>\n",
       "      <td>0</td>\n",
       "    </tr>\n",
       "    <tr>\n",
       "      <th>2</th>\n",
       "      <td>3</td>\n",
       "      <td>1</td>\n",
       "      <td>3</td>\n",
       "      <td>Heikkinen, Miss. Laina</td>\n",
       "      <td>female</td>\n",
       "      <td>26.0</td>\n",
       "      <td>0</td>\n",
       "      <td>0</td>\n",
       "      <td>STON/O2. 3101282</td>\n",
       "      <td>7.9250</td>\n",
       "      <td>S</td>\n",
       "      <td>0</td>\n",
       "      <td>0</td>\n",
       "      <td>1</td>\n",
       "    </tr>\n",
       "    <tr>\n",
       "      <th>3</th>\n",
       "      <td>4</td>\n",
       "      <td>1</td>\n",
       "      <td>1</td>\n",
       "      <td>Futrelle, Mrs. Jacques Heath (Lily May Peel)</td>\n",
       "      <td>female</td>\n",
       "      <td>35.0</td>\n",
       "      <td>1</td>\n",
       "      <td>0</td>\n",
       "      <td>113803</td>\n",
       "      <td>53.1000</td>\n",
       "      <td>S</td>\n",
       "      <td>0</td>\n",
       "      <td>0</td>\n",
       "      <td>1</td>\n",
       "    </tr>\n",
       "    <tr>\n",
       "      <th>4</th>\n",
       "      <td>5</td>\n",
       "      <td>0</td>\n",
       "      <td>3</td>\n",
       "      <td>Allen, Mr. William Henry</td>\n",
       "      <td>male</td>\n",
       "      <td>35.0</td>\n",
       "      <td>0</td>\n",
       "      <td>0</td>\n",
       "      <td>373450</td>\n",
       "      <td>8.0500</td>\n",
       "      <td>S</td>\n",
       "      <td>1</td>\n",
       "      <td>0</td>\n",
       "      <td>1</td>\n",
       "    </tr>\n",
       "  </tbody>\n",
       "</table>\n",
       "</div>"
      ],
      "text/plain": [
       "   PassengerId  Survived  Pclass  \\\n",
       "0            1         0       3   \n",
       "1            2         1       1   \n",
       "2            3         1       3   \n",
       "3            4         1       1   \n",
       "4            5         0       3   \n",
       "\n",
       "                                                Name     Sex   Age  SibSp  \\\n",
       "0                            Braund, Mr. Owen Harris    male  22.0      1   \n",
       "1  Cumings, Mrs. John Bradley (Florence Briggs Th...  female  38.0      1   \n",
       "2                             Heikkinen, Miss. Laina  female  26.0      0   \n",
       "3       Futrelle, Mrs. Jacques Heath (Lily May Peel)  female  35.0      1   \n",
       "4                           Allen, Mr. William Henry    male  35.0      0   \n",
       "\n",
       "   Parch            Ticket     Fare Embarked  male  Q  S  \n",
       "0      0         A/5 21171   7.2500        S     1  0  1  \n",
       "1      0          PC 17599  71.2833        C     0  0  0  \n",
       "2      0  STON/O2. 3101282   7.9250        S     0  0  1  \n",
       "3      0            113803  53.1000        S     0  0  1  \n",
       "4      0            373450   8.0500        S     1  0  1  "
      ]
     },
     "execution_count": 16,
     "metadata": {},
     "output_type": "execute_result"
    }
   ],
   "source": [
    "# concatenating dummy variable columns to original table\n",
    "train_data = pd.concat([train_data,sex,embark], axis=1)\n",
    "train_data.head()"
   ]
  },
  {
   "cell_type": "markdown",
   "id": "15b29204",
   "metadata": {
    "execution": {
     "iopub.execute_input": "2023-08-28T22:35:51.623215Z",
     "iopub.status.busy": "2023-08-28T22:35:51.622658Z",
     "iopub.status.idle": "2023-08-28T22:35:51.631915Z",
     "shell.execute_reply": "2023-08-28T22:35:51.630174Z",
     "shell.execute_reply.started": "2023-08-28T22:35:51.623172Z"
    },
    "papermill": {
     "duration": 0.021257,
     "end_time": "2023-08-29T14:19:38.669915",
     "exception": false,
     "start_time": "2023-08-29T14:19:38.648658",
     "status": "completed"
    },
    "tags": []
   },
   "source": [
    "Now, we need to do the same cleaning to the test data"
   ]
  },
  {
   "cell_type": "markdown",
   "id": "2fc37061",
   "metadata": {
    "papermill": {
     "duration": 0.021811,
     "end_time": "2023-08-29T14:19:38.713785",
     "exception": false,
     "start_time": "2023-08-29T14:19:38.691974",
     "status": "completed"
    },
    "tags": []
   },
   "source": [
    "### Missing Values: test_data"
   ]
  },
  {
   "cell_type": "code",
   "execution_count": 17,
   "id": "29c2a374",
   "metadata": {
    "execution": {
     "iopub.execute_input": "2023-08-29T14:19:38.760115Z",
     "iopub.status.busy": "2023-08-29T14:19:38.759394Z",
     "iopub.status.idle": "2023-08-29T14:19:38.976249Z",
     "shell.execute_reply": "2023-08-29T14:19:38.974855Z"
    },
    "papermill": {
     "duration": 0.243301,
     "end_time": "2023-08-29T14:19:38.979164",
     "exception": false,
     "start_time": "2023-08-29T14:19:38.735863",
     "status": "completed"
    },
    "tags": []
   },
   "outputs": [
    {
     "data": {
      "image/png": "[encoded data removed]",
      "text/plain": [
       "<Figure size 640x480 with 1 Axes>"
      ]
     },
     "metadata": {},
     "output_type": "display_data"
    }
   ],
   "source": [
    "# null data as a boolean viewed in heatmap\n",
    "sns.heatmap(test_data.isnull(), yticklabels=False, cbar=False, cmap='crest_r');"
   ]
  },
  {
   "cell_type": "code",
   "execution_count": 18,
   "id": "e8c4c092",
   "metadata": {
    "execution": {
     "iopub.execute_input": "2023-08-29T14:19:39.025757Z",
     "iopub.status.busy": "2023-08-29T14:19:39.025304Z",
     "iopub.status.idle": "2023-08-29T14:19:39.044981Z",
     "shell.execute_reply": "2023-08-29T14:19:39.043758Z"
    },
    "papermill": {
     "duration": 0.046214,
     "end_time": "2023-08-29T14:19:39.047803",
     "exception": false,
     "start_time": "2023-08-29T14:19:39.001589",
     "status": "completed"
    },
    "tags": []
   },
   "outputs": [],
   "source": [
    "# function to determine likely age of passengers based on average for that class\n",
    "def impute_age(cols):\n",
    "    Age = cols[0]\n",
    "    Pclass = cols[1]\n",
    "    \n",
    "    if pd.isnull(Age):\n",
    "        if Pclass == 1:\n",
    "            return 37\n",
    "        elif Pclass == 2:\n",
    "            return 29\n",
    "        else:\n",
    "            return 24\n",
    "    else:\n",
    "        return Age\n",
    "    \n",
    "# apply function\n",
    "test_data['Age'] = test_data[['Age', 'Pclass']].apply(impute_age, axis=1)"
   ]
  },
  {
   "cell_type": "code",
   "execution_count": 19,
   "id": "6249a254",
   "metadata": {
    "execution": {
     "iopub.execute_input": "2023-08-29T14:19:39.094049Z",
     "iopub.status.busy": "2023-08-29T14:19:39.093597Z",
     "iopub.status.idle": "2023-08-29T14:19:39.100670Z",
     "shell.execute_reply": "2023-08-29T14:19:39.099223Z"
    },
    "papermill": {
     "duration": 0.033443,
     "end_time": "2023-08-29T14:19:39.103274",
     "exception": false,
     "start_time": "2023-08-29T14:19:39.069831",
     "status": "completed"
    },
    "tags": []
   },
   "outputs": [],
   "source": [
    "# drop cabin column\n",
    "test_data.drop('Cabin', axis=1, inplace=True)"
   ]
  },
  {
   "cell_type": "markdown",
   "id": "8b9c07f4",
   "metadata": {
    "papermill": {
     "duration": 0.021547,
     "end_time": "2023-08-29T14:19:39.146480",
     "exception": false,
     "start_time": "2023-08-29T14:19:39.124933",
     "status": "completed"
    },
    "tags": []
   },
   "source": [
    "The test data is also missing some data in the fare column:"
   ]
  },
  {
   "cell_type": "code",
   "execution_count": 20,
   "id": "4e81abc7",
   "metadata": {
    "execution": {
     "iopub.execute_input": "2023-08-29T14:19:39.192194Z",
     "iopub.status.busy": "2023-08-29T14:19:39.191718Z",
     "iopub.status.idle": "2023-08-29T14:19:39.211003Z",
     "shell.execute_reply": "2023-08-29T14:19:39.209793Z"
    },
    "papermill": {
     "duration": 0.045695,
     "end_time": "2023-08-29T14:19:39.214059",
     "exception": false,
     "start_time": "2023-08-29T14:19:39.168364",
     "status": "completed"
    },
    "tags": []
   },
   "outputs": [],
   "source": [
    "# function to determine likely fare paid based on average for that class\n",
    "def impute_fare(cols):\n",
    "    Fare = cols[0]\n",
    "    Pclass = cols[1]\n",
    "    \n",
    "    if pd.isnull(Fare):\n",
    "        if Pclass == 1:\n",
    "            return test_data[test_data['Pclass']==1]['Fare'].mean()\n",
    "        elif Pclass == 2:\n",
    "            return test_data[test_data['Pclass']==2]['Fare'].mean()\n",
    "        else:\n",
    "            return test_data[test_data['Pclass']==3]['Fare'].mean()\n",
    "    else:\n",
    "        return Fare\n",
    "    \n",
    "# apply function\n",
    "test_data['Fare'] = test_data[['Fare', 'Pclass']].apply(impute_fare, axis=1)"
   ]
  },
  {
   "cell_type": "markdown",
   "id": "475f8b74",
   "metadata": {
    "papermill": {
     "duration": 0.02231,
     "end_time": "2023-08-29T14:19:39.258640",
     "exception": false,
     "start_time": "2023-08-29T14:19:39.236330",
     "status": "completed"
    },
    "tags": []
   },
   "source": [
    "### Categorical Features: test_data"
   ]
  },
  {
   "cell_type": "code",
   "execution_count": 21,
   "id": "06186790",
   "metadata": {
    "execution": {
     "iopub.execute_input": "2023-08-29T14:19:39.302734Z",
     "iopub.status.busy": "2023-08-29T14:19:39.302250Z",
     "iopub.status.idle": "2023-08-29T14:19:39.315072Z",
     "shell.execute_reply": "2023-08-29T14:19:39.313936Z"
    },
    "papermill": {
     "duration": 0.037571,
     "end_time": "2023-08-29T14:19:39.317333",
     "exception": false,
     "start_time": "2023-08-29T14:19:39.279762",
     "status": "completed"
    },
    "tags": []
   },
   "outputs": [
    {
     "data": {
      "text/html": [
       "<div>\n",
       "<style scoped>\n",
       "    .dataframe tbody tr th:only-of-type {\n",
       "        vertical-align: middle;\n",
       "    }\n",
       "\n",
       "    .dataframe tbody tr th {\n",
       "        vertical-align: top;\n",
       "    }\n",
       "\n",
       "    .dataframe thead th {\n",
       "        text-align: right;\n",
       "    }\n",
       "</style>\n",
       "<table border=\"1\" class=\"dataframe\">\n",
       "  <thead>\n",
       "    <tr style=\"text-align: right;\">\n",
       "      <th></th>\n",
       "      <th>male</th>\n",
       "    </tr>\n",
       "  </thead>\n",
       "  <tbody>\n",
       "    <tr>\n",
       "      <th>0</th>\n",
       "      <td>1</td>\n",
       "    </tr>\n",
       "    <tr>\n",
       "      <th>1</th>\n",
       "      <td>0</td>\n",
       "    </tr>\n",
       "    <tr>\n",
       "      <th>2</th>\n",
       "      <td>1</td>\n",
       "    </tr>\n",
       "    <tr>\n",
       "      <th>3</th>\n",
       "      <td>1</td>\n",
       "    </tr>\n",
       "    <tr>\n",
       "      <th>4</th>\n",
       "      <td>0</td>\n",
       "    </tr>\n",
       "  </tbody>\n",
       "</table>\n",
       "</div>"
      ],
      "text/plain": [
       "   male\n",
       "0     1\n",
       "1     0\n",
       "2     1\n",
       "3     1\n",
       "4     0"
      ]
     },
     "execution_count": 21,
     "metadata": {},
     "output_type": "execute_result"
    }
   ],
   "source": [
    "# convert sex into numerical values (0/1) in one column\n",
    "sex = pd.get_dummies(test_data['Sex'], drop_first=True)\n",
    "sex.head()"
   ]
  },
  {
   "cell_type": "code",
   "execution_count": 22,
   "id": "2f749d9d",
   "metadata": {
    "execution": {
     "iopub.execute_input": "2023-08-29T14:19:39.361345Z",
     "iopub.status.busy": "2023-08-29T14:19:39.360949Z",
     "iopub.status.idle": "2023-08-29T14:19:39.372864Z",
     "shell.execute_reply": "2023-08-29T14:19:39.371616Z"
    },
    "papermill": {
     "duration": 0.036952,
     "end_time": "2023-08-29T14:19:39.375355",
     "exception": false,
     "start_time": "2023-08-29T14:19:39.338403",
     "status": "completed"
    },
    "tags": []
   },
   "outputs": [
    {
     "data": {
      "text/html": [
       "<div>\n",
       "<style scoped>\n",
       "    .dataframe tbody tr th:only-of-type {\n",
       "        vertical-align: middle;\n",
       "    }\n",
       "\n",
       "    .dataframe tbody tr th {\n",
       "        vertical-align: top;\n",
       "    }\n",
       "\n",
       "    .dataframe thead th {\n",
       "        text-align: right;\n",
       "    }\n",
       "</style>\n",
       "<table border=\"1\" class=\"dataframe\">\n",
       "  <thead>\n",
       "    <tr style=\"text-align: right;\">\n",
       "      <th></th>\n",
       "      <th>Q</th>\n",
       "      <th>S</th>\n",
       "    </tr>\n",
       "  </thead>\n",
       "  <tbody>\n",
       "    <tr>\n",
       "      <th>0</th>\n",
       "      <td>1</td>\n",
       "      <td>0</td>\n",
       "    </tr>\n",
       "    <tr>\n",
       "      <th>1</th>\n",
       "      <td>0</td>\n",
       "      <td>1</td>\n",
       "    </tr>\n",
       "    <tr>\n",
       "      <th>2</th>\n",
       "      <td>1</td>\n",
       "      <td>0</td>\n",
       "    </tr>\n",
       "    <tr>\n",
       "      <th>3</th>\n",
       "      <td>0</td>\n",
       "      <td>1</td>\n",
       "    </tr>\n",
       "    <tr>\n",
       "      <th>4</th>\n",
       "      <td>0</td>\n",
       "      <td>1</td>\n",
       "    </tr>\n",
       "  </tbody>\n",
       "</table>\n",
       "</div>"
      ],
      "text/plain": [
       "   Q  S\n",
       "0  1  0\n",
       "1  0  1\n",
       "2  1  0\n",
       "3  0  1\n",
       "4  0  1"
      ]
     },
     "execution_count": 22,
     "metadata": {},
     "output_type": "execute_result"
    }
   ],
   "source": [
    "# convert embark into numerical values (0/1) in two columns\n",
    "embark = pd.get_dummies(test_data['Embarked'], drop_first=True)\n",
    "embark.head()"
   ]
  },
  {
   "cell_type": "code",
   "execution_count": 23,
   "id": "12cecdd0",
   "metadata": {
    "execution": {
     "iopub.execute_input": "2023-08-29T14:19:39.419897Z",
     "iopub.status.busy": "2023-08-29T14:19:39.419517Z",
     "iopub.status.idle": "2023-08-29T14:19:39.439644Z",
     "shell.execute_reply": "2023-08-29T14:19:39.438294Z"
    },
    "papermill": {
     "duration": 0.045444,
     "end_time": "2023-08-29T14:19:39.442047",
     "exception": false,
     "start_time": "2023-08-29T14:19:39.396603",
     "status": "completed"
    },
    "tags": []
   },
   "outputs": [
    {
     "data": {
      "text/html": [
       "<div>\n",
       "<style scoped>\n",
       "    .dataframe tbody tr th:only-of-type {\n",
       "        vertical-align: middle;\n",
       "    }\n",
       "\n",
       "    .dataframe tbody tr th {\n",
       "        vertical-align: top;\n",
       "    }\n",
       "\n",
       "    .dataframe thead th {\n",
       "        text-align: right;\n",
       "    }\n",
       "</style>\n",
       "<table border=\"1\" class=\"dataframe\">\n",
       "  <thead>\n",
       "    <tr style=\"text-align: right;\">\n",
       "      <th></th>\n",
       "      <th>PassengerId</th>\n",
       "      <th>Pclass</th>\n",
       "      <th>Name</th>\n",
       "      <th>Sex</th>\n",
       "      <th>Age</th>\n",
       "      <th>SibSp</th>\n",
       "      <th>Parch</th>\n",
       "      <th>Ticket</th>\n",
       "      <th>Fare</th>\n",
       "      <th>Embarked</th>\n",
       "      <th>male</th>\n",
       "      <th>Q</th>\n",
       "      <th>S</th>\n",
       "    </tr>\n",
       "  </thead>\n",
       "  <tbody>\n",
       "    <tr>\n",
       "      <th>0</th>\n",
       "      <td>892</td>\n",
       "      <td>3</td>\n",
       "      <td>Kelly, Mr. James</td>\n",
       "      <td>male</td>\n",
       "      <td>34.5</td>\n",
       "      <td>0</td>\n",
       "      <td>0</td>\n",
       "      <td>330911</td>\n",
       "      <td>7.8292</td>\n",
       "      <td>Q</td>\n",
       "      <td>1</td>\n",
       "      <td>1</td>\n",
       "      <td>0</td>\n",
       "    </tr>\n",
       "    <tr>\n",
       "      <th>1</th>\n",
       "      <td>893</td>\n",
       "      <td>3</td>\n",
       "      <td>Wilkes, Mrs. James (Ellen Needs)</td>\n",
       "      <td>female</td>\n",
       "      <td>47.0</td>\n",
       "      <td>1</td>\n",
       "      <td>0</td>\n",
       "      <td>363272</td>\n",
       "      <td>7.0000</td>\n",
       "      <td>S</td>\n",
       "      <td>0</td>\n",
       "      <td>0</td>\n",
       "      <td>1</td>\n",
       "    </tr>\n",
       "    <tr>\n",
       "      <th>2</th>\n",
       "      <td>894</td>\n",
       "      <td>2</td>\n",
       "      <td>Myles, Mr. Thomas Francis</td>\n",
       "      <td>male</td>\n",
       "      <td>62.0</td>\n",
       "      <td>0</td>\n",
       "      <td>0</td>\n",
       "      <td>240276</td>\n",
       "      <td>9.6875</td>\n",
       "      <td>Q</td>\n",
       "      <td>1</td>\n",
       "      <td>1</td>\n",
       "      <td>0</td>\n",
       "    </tr>\n",
       "    <tr>\n",
       "      <th>3</th>\n",
       "      <td>895</td>\n",
       "      <td>3</td>\n",
       "      <td>Wirz, Mr. Albert</td>\n",
       "      <td>male</td>\n",
       "      <td>27.0</td>\n",
       "      <td>0</td>\n",
       "      <td>0</td>\n",
       "      <td>315154</td>\n",
       "      <td>8.6625</td>\n",
       "      <td>S</td>\n",
       "      <td>1</td>\n",
       "      <td>0</td>\n",
       "      <td>1</td>\n",
       "    </tr>\n",
       "    <tr>\n",
       "      <th>4</th>\n",
       "      <td>896</td>\n",
       "      <td>3</td>\n",
       "      <td>Hirvonen, Mrs. Alexander (Helga E Lindqvist)</td>\n",
       "      <td>female</td>\n",
       "      <td>22.0</td>\n",
       "      <td>1</td>\n",
       "      <td>1</td>\n",
       "      <td>3101298</td>\n",
       "      <td>12.2875</td>\n",
       "      <td>S</td>\n",
       "      <td>0</td>\n",
       "      <td>0</td>\n",
       "      <td>1</td>\n",
       "    </tr>\n",
       "  </tbody>\n",
       "</table>\n",
       "</div>"
      ],
      "text/plain": [
       "   PassengerId  Pclass                                          Name     Sex  \\\n",
       "0          892       3                              Kelly, Mr. James    male   \n",
       "1          893       3              Wilkes, Mrs. James (Ellen Needs)  female   \n",
       "2          894       2                     Myles, Mr. Thomas Francis    male   \n",
       "3          895       3                              Wirz, Mr. Albert    male   \n",
       "4          896       3  Hirvonen, Mrs. Alexander (Helga E Lindqvist)  female   \n",
       "\n",
       "    Age  SibSp  Parch   Ticket     Fare Embarked  male  Q  S  \n",
       "0  34.5      0      0   330911   7.8292        Q     1  1  0  \n",
       "1  47.0      1      0   363272   7.0000        S     0  0  1  \n",
       "2  62.0      0      0   240276   9.6875        Q     1  1  0  \n",
       "3  27.0      0      0   315154   8.6625        S     1  0  1  \n",
       "4  22.0      1      1  3101298  12.2875        S     0  0  1  "
      ]
     },
     "execution_count": 23,
     "metadata": {},
     "output_type": "execute_result"
    }
   ],
   "source": [
    "# concatenating dummy variable columns to original table\n",
    "test_data = pd.concat([test_data,sex,embark], axis=1)\n",
    "test_data.head()"
   ]
  },
  {
   "cell_type": "markdown",
   "id": "1a5c4c26",
   "metadata": {
    "papermill": {
     "duration": 0.021779,
     "end_time": "2023-08-29T14:19:39.553543",
     "exception": false,
     "start_time": "2023-08-29T14:19:39.531764",
     "status": "completed"
    },
    "tags": []
   },
   "source": [
    "# Train/Test Split"
   ]
  },
  {
   "cell_type": "markdown",
   "id": "e0dc8656",
   "metadata": {},
   "source": [
    "In order to test our model for accuracy, we will split the data with known outcomes (train_data) into a training set and a testing set."
   ]
  },
  {
   "cell_type": "code",
   "execution_count": 24,
   "id": "f92e5a48",
   "metadata": {
    "execution": {
     "iopub.execute_input": "2023-08-29T14:19:39.601708Z",
     "iopub.status.busy": "2023-08-29T14:19:39.601327Z",
     "iopub.status.idle": "2023-08-29T14:19:39.876829Z",
     "shell.execute_reply": "2023-08-29T14:19:39.875448Z"
    },
    "papermill": {
     "duration": 0.302511,
     "end_time": "2023-08-29T14:19:39.879859",
     "exception": false,
     "start_time": "2023-08-29T14:19:39.577348",
     "status": "completed"
    },
    "tags": []
   },
   "outputs": [],
   "source": [
    "from sklearn.model_selection import train_test_split"
   ]
  },
  {
   "cell_type": "code",
   "execution_count": 25,
   "id": "e02a6141",
   "metadata": {
    "execution": {
     "iopub.execute_input": "2023-08-29T14:19:39.926765Z",
     "iopub.status.busy": "2023-08-29T14:19:39.926389Z",
     "iopub.status.idle": "2023-08-29T14:19:39.933349Z",
     "shell.execute_reply": "2023-08-29T14:19:39.932114Z"
    },
    "papermill": {
     "duration": 0.034008,
     "end_time": "2023-08-29T14:19:39.936175",
     "exception": false,
     "start_time": "2023-08-29T14:19:39.902167",
     "status": "completed"
    },
    "tags": []
   },
   "outputs": [],
   "source": [
    "# training set features\n",
    "X = train_data.drop(['Name', 'Sex', 'Ticket', 'Embarked', 'PassengerId', 'Survived'], axis=1)\n",
    "# training set target variable\n",
    "y = train_data['Survived']"
   ]
  },
  {
   "cell_type": "code",
   "execution_count": 26,
   "id": "03a3606e",
   "metadata": {
    "execution": {
     "iopub.execute_input": "2023-08-29T14:19:39.983846Z",
     "iopub.status.busy": "2023-08-29T14:19:39.983463Z",
     "iopub.status.idle": "2023-08-29T14:19:39.992540Z",
     "shell.execute_reply": "2023-08-29T14:19:39.991068Z"
    },
    "papermill": {
     "duration": 0.036359,
     "end_time": "2023-08-29T14:19:39.995295",
     "exception": false,
     "start_time": "2023-08-29T14:19:39.958936",
     "status": "completed"
    },
    "tags": []
   },
   "outputs": [],
   "source": [
    "# split training data into training and testing data\n",
    "X_train, X_test, y_train, y_test = train_test_split(X, y, test_size=0.33)"
   ]
  },
  {
   "cell_type": "markdown",
   "id": "d538d254",
   "metadata": {
    "papermill": {
     "duration": 0.022515,
     "end_time": "2023-08-29T14:19:40.041790",
     "exception": false,
     "start_time": "2023-08-29T14:19:40.019275",
     "status": "completed"
    },
    "tags": []
   },
   "source": [
    "# Random Forest Classifier"
   ]
  },
  {
   "cell_type": "code",
   "execution_count": 27,
   "id": "3b9c7da6",
   "metadata": {
    "execution": {
     "iopub.execute_input": "2023-08-29T14:19:40.090383Z",
     "iopub.status.busy": "2023-08-29T14:19:40.089903Z",
     "iopub.status.idle": "2023-08-29T14:19:40.490378Z",
     "shell.execute_reply": "2023-08-29T14:19:40.488578Z"
    },
    "papermill": {
     "duration": 0.428019,
     "end_time": "2023-08-29T14:19:40.493397",
     "exception": false,
     "start_time": "2023-08-29T14:19:40.065378",
     "status": "completed"
    },
    "tags": []
   },
   "outputs": [],
   "source": [
    "from sklearn.ensemble import RandomForestClassifier"
   ]
  },
  {
   "cell_type": "code",
   "execution_count": 28,
   "id": "bbde56ce",
   "metadata": {
    "execution": {
     "iopub.execute_input": "2023-08-29T14:19:40.541685Z",
     "iopub.status.busy": "2023-08-29T14:19:40.540902Z",
     "iopub.status.idle": "2023-08-29T14:19:40.546760Z",
     "shell.execute_reply": "2023-08-29T14:19:40.545466Z"
    },
    "papermill": {
     "duration": 0.032938,
     "end_time": "2023-08-29T14:19:40.549253",
     "exception": false,
     "start_time": "2023-08-29T14:19:40.516315",
     "status": "completed"
    },
    "tags": []
   },
   "outputs": [],
   "source": [
    "# create Random Forest Classifier object\n",
    "rfc = RandomForestClassifier(n_estimators=200)"
   ]
  },
  {
   "cell_type": "code",
   "execution_count": 29,
   "id": "24e1580e",
   "metadata": {
    "execution": {
     "iopub.execute_input": "2023-08-29T14:19:40.599094Z",
     "iopub.status.busy": "2023-08-29T14:19:40.598664Z",
     "iopub.status.idle": "2023-08-29T14:19:41.139637Z",
     "shell.execute_reply": "2023-08-29T14:19:41.138383Z"
    },
    "papermill": {
     "duration": 0.570048,
     "end_time": "2023-08-29T14:19:41.142291",
     "exception": false,
     "start_time": "2023-08-29T14:19:40.572243",
     "status": "completed"
    },
    "tags": []
   },
   "outputs": [
    {
     "data": {
      "text/html": [
       "<style>#sk-container-id-1 {color: black;background-color: white;}#sk-container-id-1 pre{padding: 0;}#sk-container-id-1 div.sk-toggleable {background-color: white;}#sk-container-id-1 label.sk-toggleable__label {cursor: pointer;display: block;width: 100%;margin-bottom: 0;padding: 0.3em;box-sizing: border-box;text-align: center;}#sk-container-id-1 label.sk-toggleable__label-arrow:before {content: \"▸\";float: left;margin-right: 0.25em;color: #696969;}#sk-container-id-1 label.sk-toggleable__label-arrow:hover:before {color: black;}#sk-container-id-1 div.sk-estimator:hover label.sk-toggleable__label-arrow:before {color: black;}#sk-container-id-1 div.sk-toggleable__content {max-height: 0;max-width: 0;overflow: hidden;text-align: left;background-color: #f0f8ff;}#sk-container-id-1 div.sk-toggleable__content pre {margin: 0.2em;color: black;border-radius: 0.25em;background-color: #f0f8ff;}#sk-container-id-1 input.sk-toggleable__control:checked~div.sk-toggleable__content {max-height: 200px;max-width: 100%;overflow: auto;}#sk-container-id-1 input.sk-toggleable__control:checked~label.sk-toggleable__label-arrow:before {content: \"▾\";}#sk-container-id-1 div.sk-estimator input.sk-toggleable__control:checked~label.sk-toggleable__label {background-color: #d4ebff;}#sk-container-id-1 div.sk-label input.sk-toggleable__control:checked~label.sk-toggleable__label {background-color: #d4ebff;}#sk-container-id-1 input.sk-hidden--visually {border: 0;clip: rect(1px 1px 1px 1px);clip: rect(1px, 1px, 1px, 1px);height: 1px;margin: -1px;overflow: hidden;padding: 0;position: absolute;width: 1px;}#sk-container-id-1 div.sk-estimator {font-family: monospace;background-color: #f0f8ff;border: 1px dotted black;border-radius: 0.25em;box-sizing: border-box;margin-bottom: 0.5em;}#sk-container-id-1 div.sk-estimator:hover {background-color: #d4ebff;}#sk-container-id-1 div.sk-parallel-item::after {content: \"\";width: 100%;border-bottom: 1px solid gray;flex-grow: 1;}#sk-container-id-1 div.sk-label:hover label.sk-toggleable__label {background-color: #d4ebff;}#sk-container-id-1 div.sk-serial::before {content: \"\";position: absolute;border-left: 1px solid gray;box-sizing: border-box;top: 0;bottom: 0;left: 50%;z-index: 0;}#sk-container-id-1 div.sk-serial {display: flex;flex-direction: column;align-items: center;background-color: white;padding-right: 0.2em;padding-left: 0.2em;position: relative;}#sk-container-id-1 div.sk-item {position: relative;z-index: 1;}#sk-container-id-1 div.sk-parallel {display: flex;align-items: stretch;justify-content: center;background-color: white;position: relative;}#sk-container-id-1 div.sk-item::before, #sk-container-id-1 div.sk-parallel-item::before {content: \"\";position: absolute;border-left: 1px solid gray;box-sizing: border-box;top: 0;bottom: 0;left: 50%;z-index: -1;}#sk-container-id-1 div.sk-parallel-item {display: flex;flex-direction: column;z-index: 1;position: relative;background-color: white;}#sk-container-id-1 div.sk-parallel-item:first-child::after {align-self: flex-end;width: 50%;}#sk-container-id-1 div.sk-parallel-item:last-child::after {align-self: flex-start;width: 50%;}#sk-container-id-1 div.sk-parallel-item:only-child::after {width: 0;}#sk-container-id-1 div.sk-dashed-wrapped {border: 1px dashed gray;margin: 0 0.4em 0.5em 0.4em;box-sizing: border-box;padding-bottom: 0.4em;background-color: white;}#sk-container-id-1 div.sk-label label {font-family: monospace;font-weight: bold;display: inline-block;line-height: 1.2em;}#sk-container-id-1 div.sk-label-container {text-align: center;}#sk-container-id-1 div.sk-container {/* jupyter's `normalize.less` sets `[hidden] { display: none; }` but bootstrap.min.css set `[hidden] { display: none !important; }` so we also need the `!important` here to be able to override the default hidden behavior on the sphinx rendered scikit-learn.org. See: https://github.com/scikit-learn/scikit-learn/issues/21755 */display: inline-block !important;position: relative;}#sk-container-id-1 div.sk-text-repr-fallback {display: none;}</style><div id=\"sk-container-id-1\" class=\"sk-top-container\"><div class=\"sk-text-repr-fallback\"><pre>RandomForestClassifier(n_estimators=200)</pre><b>In a Jupyter environment, please rerun this cell to show the HTML representation or trust the notebook. <br />On GitHub, the HTML representation is unable to render, please try loading this page with nbviewer.org.</b></div><div class=\"sk-container\" hidden><div class=\"sk-item\"><div class=\"sk-estimator sk-toggleable\"><input class=\"sk-toggleable__control sk-hidden--visually\" id=\"sk-estimator-id-1\" type=\"checkbox\" checked><label for=\"sk-estimator-id-1\" class=\"sk-toggleable__label sk-toggleable__label-arrow\">RandomForestClassifier</label><div class=\"sk-toggleable__content\"><pre>RandomForestClassifier(n_estimators=200)</pre></div></div></div></div></div>"
      ],
      "text/plain": [
       "RandomForestClassifier(n_estimators=200)"
      ]
     },
     "execution_count": 29,
     "metadata": {},
     "output_type": "execute_result"
    }
   ],
   "source": [
    "# train the model\n",
    "rfc.fit(X_train, y_train)"
   ]
  },
  {
   "cell_type": "code",
   "execution_count": 30,
   "id": "8993b54f",
   "metadata": {
    "execution": {
     "iopub.execute_input": "2023-08-29T14:19:41.191243Z",
     "iopub.status.busy": "2023-08-29T14:19:41.190749Z",
     "iopub.status.idle": "2023-08-29T14:19:41.237237Z",
     "shell.execute_reply": "2023-08-29T14:19:41.235919Z"
    },
    "papermill": {
     "duration": 0.074324,
     "end_time": "2023-08-29T14:19:41.240030",
     "exception": false,
     "start_time": "2023-08-29T14:19:41.165706",
     "status": "completed"
    },
    "tags": []
   },
   "outputs": [],
   "source": [
    "# predict outcomes of the training test set\n",
    "predictions = rfc.predict(X_test)"
   ]
  },
  {
   "cell_type": "markdown",
   "id": "0467f87a",
   "metadata": {
    "papermill": {
     "duration": 0.022414,
     "end_time": "2023-08-29T14:19:41.286875",
     "exception": false,
     "start_time": "2023-08-29T14:19:41.264461",
     "status": "completed"
    },
    "tags": []
   },
   "source": [
    "# Model Evaluation"
   ]
  },
  {
   "cell_type": "code",
   "execution_count": 31,
   "id": "85cbc321",
   "metadata": {
    "execution": {
     "iopub.execute_input": "2023-08-29T14:19:41.334784Z",
     "iopub.status.busy": "2023-08-29T14:19:41.334318Z",
     "iopub.status.idle": "2023-08-29T14:19:41.340064Z",
     "shell.execute_reply": "2023-08-29T14:19:41.338820Z"
    },
    "papermill": {
     "duration": 0.032735,
     "end_time": "2023-08-29T14:19:41.342485",
     "exception": false,
     "start_time": "2023-08-29T14:19:41.309750",
     "status": "completed"
    },
    "tags": []
   },
   "outputs": [],
   "source": [
    "from sklearn.metrics import confusion_matrix,classification_report"
   ]
  },
  {
   "cell_type": "code",
   "execution_count": 32,
   "id": "6040ca64",
   "metadata": {
    "execution": {
     "iopub.execute_input": "2023-08-29T14:19:41.391225Z",
     "iopub.status.busy": "2023-08-29T14:19:41.390760Z",
     "iopub.status.idle": "2023-08-29T14:19:41.400726Z",
     "shell.execute_reply": "2023-08-29T14:19:41.399233Z"
    },
    "papermill": {
     "duration": 0.037483,
     "end_time": "2023-08-29T14:19:41.403331",
     "exception": false,
     "start_time": "2023-08-29T14:19:41.365848",
     "status": "completed"
    },
    "tags": []
   },
   "outputs": [
    {
     "name": "stdout",
     "output_type": "stream",
     "text": [
      "[[164  24]\n",
      " [ 30  77]]\n"
     ]
    }
   ],
   "source": [
    "print(confusion_matrix(y_test,predictions))"
   ]
  },
  {
   "cell_type": "markdown",
   "id": "c64e81ed",
   "metadata": {},
   "source": [
    "The confusion matrix shows that the model made 164 true negative predictions and 77 true positive predictions. The model made 24 false positive predictions and 30 false negative predictions."
   ]
  },
  {
   "cell_type": "code",
   "execution_count": 33,
   "id": "f2892a90",
   "metadata": {
    "execution": {
     "iopub.execute_input": "2023-08-29T14:19:41.453032Z",
     "iopub.status.busy": "2023-08-29T14:19:41.451662Z",
     "iopub.status.idle": "2023-08-29T14:19:41.468061Z",
     "shell.execute_reply": "2023-08-29T14:19:41.465777Z"
    },
    "papermill": {
     "duration": 0.044205,
     "end_time": "2023-08-29T14:19:41.471111",
     "exception": false,
     "start_time": "2023-08-29T14:19:41.426906",
     "status": "completed"
    },
    "tags": []
   },
   "outputs": [
    {
     "name": "stdout",
     "output_type": "stream",
     "text": [
      "              precision    recall  f1-score   support\n",
      "\n",
      "           0       0.85      0.87      0.86       188\n",
      "           1       0.76      0.72      0.74       107\n",
      "\n",
      "    accuracy                           0.82       295\n",
      "   macro avg       0.80      0.80      0.80       295\n",
      "weighted avg       0.82      0.82      0.82       295\n",
      "\n"
     ]
    }
   ],
   "source": [
    "print(classification_report(y_test,predictions))"
   ]
  },
  {
   "cell_type": "markdown",
   "id": "075ec6e6",
   "metadata": {},
   "source": [
    "The overall accuracy of the model was 0.82 or 82%"
   ]
  },
  {
   "cell_type": "markdown",
   "id": "f8dfe9fb",
   "metadata": {
    "papermill": {
     "duration": 0.022579,
     "end_time": "2023-08-29T14:19:41.519079",
     "exception": false,
     "start_time": "2023-08-29T14:19:41.496500",
     "status": "completed"
    },
    "tags": []
   },
   "source": [
    "# Final Test"
   ]
  },
  {
   "cell_type": "code",
   "execution_count": 34,
   "id": "b47a0db9",
   "metadata": {
    "execution": {
     "iopub.execute_input": "2023-08-29T14:19:41.567226Z",
     "iopub.status.busy": "2023-08-29T14:19:41.566722Z",
     "iopub.status.idle": "2023-08-29T14:19:41.573526Z",
     "shell.execute_reply": "2023-08-29T14:19:41.572628Z"
    },
    "papermill": {
     "duration": 0.033553,
     "end_time": "2023-08-29T14:19:41.575891",
     "exception": false,
     "start_time": "2023-08-29T14:19:41.542338",
     "status": "completed"
    },
    "tags": []
   },
   "outputs": [],
   "source": [
    "# test set features\n",
    "X_test_final = test_data.drop(['Name', 'Sex', 'Ticket', 'Embarked', 'PassengerId'], axis=1)"
   ]
  },
  {
   "cell_type": "code",
   "execution_count": 35,
   "id": "7aa5fb80",
   "metadata": {
    "execution": {
     "iopub.execute_input": "2023-08-29T14:19:41.626221Z",
     "iopub.status.busy": "2023-08-29T14:19:41.625143Z",
     "iopub.status.idle": "2023-08-29T14:19:41.689748Z",
     "shell.execute_reply": "2023-08-29T14:19:41.687595Z"
    },
    "papermill": {
     "duration": 0.093168,
     "end_time": "2023-08-29T14:19:41.693819",
     "exception": false,
     "start_time": "2023-08-29T14:19:41.600651",
     "status": "completed"
    },
    "tags": []
   },
   "outputs": [],
   "source": [
    "# predict outcomes of final test set\n",
    "final_predictions = rfc.predict(X_test_final)"
   ]
  },
  {
   "cell_type": "code",
   "execution_count": 36,
   "id": "f294e797",
   "metadata": {
    "execution": {
     "iopub.execute_input": "2023-08-29T14:19:41.753504Z",
     "iopub.status.busy": "2023-08-29T14:19:41.752922Z",
     "iopub.status.idle": "2023-08-29T14:19:41.763983Z",
     "shell.execute_reply": "2023-08-29T14:19:41.763090Z"
    },
    "papermill": {
     "duration": 0.045441,
     "end_time": "2023-08-29T14:19:41.766889",
     "exception": false,
     "start_time": "2023-08-29T14:19:41.721448",
     "status": "completed"
    },
    "tags": []
   },
   "outputs": [],
   "source": [
    "# create csv file for submission to https://www.kaggle.com/competitions/titanic/overview\n",
    "output = pd.DataFrame({'PassengerId': test_data.PassengerId, 'Survived': final_predictions})\n",
    "output.to_csv('submission.csv', index=False)"
   ]
  },
  {
   "cell_type": "markdown",
   "id": "1c2e6c98",
   "metadata": {
    "papermill": {
     "duration": 0.023279,
     "end_time": "2023-08-29T14:19:41.813665",
     "exception": false,
     "start_time": "2023-08-29T14:19:41.790386",
     "status": "completed"
    },
    "tags": []
   },
   "source": [
    "Because the final test set data doesn't reveal whether passengers survived, I'm not able to complete a confusion matrix and classification report for the final test set."
   ]
  },
  {
   "cell_type": "markdown",
   "id": "120dc0b9",
   "metadata": {},
   "source": [
    "My submission on Kaggle received a score of 0.72966, or 73% accuracy of predicting which passengers survived the Titanic."
   ]
  }
 ],
 "metadata": {
  "kernelspec": {
   "display_name": "Python 3 (ipykernel)",
   "language": "python",
   "name": "python3"
  },
  "language_info": {
   "codemirror_mode": {
    "name": "ipython",
    "version": 3
   },
   "file_extension": ".py",
   "mimetype": "text/x-python",
   "name": "python",
   "nbconvert_exporter": "python",
   "pygments_lexer": "ipython3",
   "version": "3.11.3"
  },
  "papermill": {
   "default_parameters": {},
   "duration": 19.967789,
   "end_time": "2023-08-29T14:19:42.860268",
   "environment_variables": {},
   "exception": null,
   "input_path": "__notebook__.ipynb",
   "output_path": "__notebook__.ipynb",
   "parameters": {},
   "start_time": "2023-08-29T14:19:22.892479",
   "version": "2.4.0"
  }
 },
 "nbformat": 4,
 "nbformat_minor": 5
}
